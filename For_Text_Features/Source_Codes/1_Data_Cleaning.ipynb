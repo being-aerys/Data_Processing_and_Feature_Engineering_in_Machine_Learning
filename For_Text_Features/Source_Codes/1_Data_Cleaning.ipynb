{
 "cells": [
  {
   "cell_type": "markdown",
   "metadata": {},
   "source": [
    "# Initial Exploration\n",
    "Before any preprocessing is done, the text data in its raw form can be explored to observe some featuers in raw form. Typically, the text in interest can be a single long text such as a news transcript or a colleciton of texts such as retaurant reviews or movie reviews. We will work with both the type simultaneously in this notebook.<br>\n",
    "Sample1 : A news transcript taken from https://www.foxnews.com/transcript/biden-slams-texas-mississippi-for-covid-reopening-measures .<br>\n",
    "Sample2 :  A set of IMDB reviews taken from http://ai.stanford.edu/~amaas/data/sentiment/\n",
    "\n",
    "\n",
    "This notebook takes ideas from multiple books and articles."
   ]
  },
  {
   "cell_type": "markdown",
   "metadata": {},
   "source": [
    "### Import libraries"
   ]
  },
  {
   "cell_type": "code",
   "execution_count": 1,
   "metadata": {},
   "outputs": [],
   "source": [
    "import os\n",
    "import pandas as pd"
   ]
  },
  {
   "cell_type": "code",
   "execution_count": 2,
   "metadata": {},
   "outputs": [],
   "source": [
    "# Read news transcription\n",
    "\n",
    "path_to_file_1 = \"../data/example_text.txt\"\n",
    "with open(path_to_file_1) as f:\n",
    "    raw_text_1 = f.read()        # reads all the contents into a single string\n",
    "                             # can read one line at a time and treat each line as separate using readlines() \n",
    "\n",
    "\n",
    "# Read Reviews       \n",
    "def build_data_frame(path):\n",
    "    rows = []\n",
    "    index = []\n",
    "    review_count = 0\n",
    "    \n",
    "    all_files = os.listdir(path)#os.walk(path)\n",
    "    \n",
    "    for filename in all_files:\n",
    "        \n",
    "        with open(path+filename) as f:\n",
    "            raw_text = f.read()\n",
    "            rows.append(raw_text)\n",
    "        index.append(filename)\n",
    "        review_count += 1\n",
    "        \n",
    "        # We will use only 300 review for simplicity for now.\n",
    "        if review_count == 300:\n",
    "            break\n",
    "    \n",
    "\n",
    "    data_frame = pd.DataFrame(rows, index=index)\n",
    "    return data_frame\n",
    "\n",
    "        \n",
    "path_to_files_2 = \"../data/imdb/train/unsup/\"\n",
    "\n",
    "reviews = build_data_frame(path_to_files_2)"
   ]
  },
  {
   "cell_type": "markdown",
   "metadata": {},
   "source": [
    "### Observe the contents and impurities"
   ]
  },
  {
   "cell_type": "markdown",
   "metadata": {},
   "source": [
    "Any text in it raw form contains many impurities like abbreviations, white spaces, special characters, dates, etc. This can be observed in the news transcription as well."
   ]
  },
  {
   "cell_type": "code",
   "execution_count": 3,
   "metadata": {},
   "outputs": [
    {
     "name": "stdout",
     "output_type": "stream",
     "text": [
      "This is a rush transcript from \"Special Report\" March 3, 2021. This copy may not be in its final form and may be updated.\n",
      "\n",
      "BRET BAIER, FOX NEWS ANCHOR (on camera): Jesse, I'm very excited about your\n",
      "book now that you'll have the different kinds of dog.\n",
      "\n",
      "WATTERS: Thank you. And if you want to send me a book, Bret on any subject,\n",
      "please do, but make sure it has pictures, OK?\n",
      "\n",
      "BAIER: OK, pictures you got it. Thank you.\n",
      "\n",
      "Good evening. I'm Bret Baier. Breaking tonight, we are covering three big\n",
      "stori\n"
     ]
    }
   ],
   "source": [
    "print(raw_text_1[0:500])"
   ]
  },
  {
   "cell_type": "markdown",
   "metadata": {},
   "source": [
    "This method of reading a file is fine as long as the text file contains only ASCII characters. The character encoding for such texts is US-ASCII. However, we might encounter text files with characters from other languages that are not addressed by US-ASCII encoding e.g., UTF-8. Wikipedia says \"character encoding is used to represent a repertoire of characters by some kind of encoding system that assigns a number to each character for digital representation.\" This has to be taken care of while reading a text file for preprocessing."
   ]
  },
  {
   "cell_type": "markdown",
   "metadata": {},
   "source": [
    "The reviews also contain impurities"
   ]
  },
  {
   "cell_type": "code",
   "execution_count": 4,
   "metadata": {},
   "outputs": [
    {
     "data": {
      "text/html": [
       "<div>\n",
       "<style scoped>\n",
       "    .dataframe tbody tr th:only-of-type {\n",
       "        vertical-align: middle;\n",
       "    }\n",
       "\n",
       "    .dataframe tbody tr th {\n",
       "        vertical-align: top;\n",
       "    }\n",
       "\n",
       "    .dataframe thead th {\n",
       "        text-align: right;\n",
       "    }\n",
       "</style>\n",
       "<table border=\"1\" class=\"dataframe\">\n",
       "  <thead>\n",
       "    <tr style=\"text-align: right;\">\n",
       "      <th></th>\n",
       "      <th>0</th>\n",
       "    </tr>\n",
       "  </thead>\n",
       "  <tbody>\n",
       "    <tr>\n",
       "      <th>0_0.txt</th>\n",
       "      <td>I admit, the great majority of films released ...</td>\n",
       "    </tr>\n",
       "    <tr>\n",
       "      <th>10000_0.txt</th>\n",
       "      <td>Take a low budget, inexperienced actors doubli...</td>\n",
       "    </tr>\n",
       "    <tr>\n",
       "      <th>10001_0.txt</th>\n",
       "      <td>Everybody has seen 'Back To The Future,' right...</td>\n",
       "    </tr>\n",
       "    <tr>\n",
       "      <th>10002_0.txt</th>\n",
       "      <td>Doris Day was an icon of beauty in singing and...</td>\n",
       "    </tr>\n",
       "    <tr>\n",
       "      <th>10003_0.txt</th>\n",
       "      <td>After a series of silly, fun-loving movies, 19...</td>\n",
       "    </tr>\n",
       "  </tbody>\n",
       "</table>\n",
       "</div>"
      ],
      "text/plain": [
       "                                                             0\n",
       "0_0.txt      I admit, the great majority of films released ...\n",
       "10000_0.txt  Take a low budget, inexperienced actors doubli...\n",
       "10001_0.txt  Everybody has seen 'Back To The Future,' right...\n",
       "10002_0.txt  Doris Day was an icon of beauty in singing and...\n",
       "10003_0.txt  After a series of silly, fun-loving movies, 19..."
      ]
     },
     "execution_count": 4,
     "metadata": {},
     "output_type": "execute_result"
    }
   ],
   "source": [
    "reviews.head()"
   ]
  },
  {
   "cell_type": "markdown",
   "metadata": {},
   "source": [
    "### Assess the lengths of the reviews. Typically, negative reviews and comments tend to be shorter. Also, longer the review, more content it has."
   ]
  },
  {
   "cell_type": "code",
   "execution_count": 5,
   "metadata": {},
   "outputs": [],
   "source": [
    "reviews.columns = [\"review\"]\n",
    "\n",
    "# calculate word count for each of the reviews.\n",
    "review_column = reviews[\"review\"]\n",
    "word_counts = [len(review.split(\" \")) for review in review_column]\n",
    "\n",
    "reviews[\"wordcount\"] = word_counts"
   ]
  },
  {
   "cell_type": "code",
   "execution_count": 6,
   "metadata": {},
   "outputs": [
    {
     "data": {
      "text/html": [
       "<div>\n",
       "<style scoped>\n",
       "    .dataframe tbody tr th:only-of-type {\n",
       "        vertical-align: middle;\n",
       "    }\n",
       "\n",
       "    .dataframe tbody tr th {\n",
       "        vertical-align: top;\n",
       "    }\n",
       "\n",
       "    .dataframe thead th {\n",
       "        text-align: right;\n",
       "    }\n",
       "</style>\n",
       "<table border=\"1\" class=\"dataframe\">\n",
       "  <thead>\n",
       "    <tr style=\"text-align: right;\">\n",
       "      <th></th>\n",
       "      <th>review</th>\n",
       "      <th>wordcount</th>\n",
       "    </tr>\n",
       "  </thead>\n",
       "  <tbody>\n",
       "    <tr>\n",
       "      <th>0_0.txt</th>\n",
       "      <td>I admit, the great majority of films released ...</td>\n",
       "      <td>139</td>\n",
       "    </tr>\n",
       "    <tr>\n",
       "      <th>10000_0.txt</th>\n",
       "      <td>Take a low budget, inexperienced actors doubli...</td>\n",
       "      <td>154</td>\n",
       "    </tr>\n",
       "    <tr>\n",
       "      <th>10001_0.txt</th>\n",
       "      <td>Everybody has seen 'Back To The Future,' right...</td>\n",
       "      <td>305</td>\n",
       "    </tr>\n",
       "    <tr>\n",
       "      <th>10002_0.txt</th>\n",
       "      <td>Doris Day was an icon of beauty in singing and...</td>\n",
       "      <td>125</td>\n",
       "    </tr>\n",
       "    <tr>\n",
       "      <th>10003_0.txt</th>\n",
       "      <td>After a series of silly, fun-loving movies, 19...</td>\n",
       "      <td>197</td>\n",
       "    </tr>\n",
       "    <tr>\n",
       "      <th>10004_0.txt</th>\n",
       "      <td>This isn't exactly a musical, but it almost se...</td>\n",
       "      <td>240</td>\n",
       "    </tr>\n",
       "    <tr>\n",
       "      <th>10005_0.txt</th>\n",
       "      <td>After seven years and seventeen pictures at Wa...</td>\n",
       "      <td>377</td>\n",
       "    </tr>\n",
       "    <tr>\n",
       "      <th>10006_0.txt</th>\n",
       "      <td>In the 1950's there were many film boigraphies...</td>\n",
       "      <td>217</td>\n",
       "    </tr>\n",
       "    <tr>\n",
       "      <th>10007_0.txt</th>\n",
       "      <td>MY RATING- 7.3&lt;br /&gt;&lt;br /&gt;This one is a curiou...</td>\n",
       "      <td>95</td>\n",
       "    </tr>\n",
       "    <tr>\n",
       "      <th>10008_0.txt</th>\n",
       "      <td>Doris Day and James Cagney are excellent in th...</td>\n",
       "      <td>154</td>\n",
       "    </tr>\n",
       "  </tbody>\n",
       "</table>\n",
       "</div>"
      ],
      "text/plain": [
       "                                                        review  wordcount\n",
       "0_0.txt      I admit, the great majority of films released ...        139\n",
       "10000_0.txt  Take a low budget, inexperienced actors doubli...        154\n",
       "10001_0.txt  Everybody has seen 'Back To The Future,' right...        305\n",
       "10002_0.txt  Doris Day was an icon of beauty in singing and...        125\n",
       "10003_0.txt  After a series of silly, fun-loving movies, 19...        197\n",
       "10004_0.txt  This isn't exactly a musical, but it almost se...        240\n",
       "10005_0.txt  After seven years and seventeen pictures at Wa...        377\n",
       "10006_0.txt  In the 1950's there were many film boigraphies...        217\n",
       "10007_0.txt  MY RATING- 7.3<br /><br />This one is a curiou...         95\n",
       "10008_0.txt  Doris Day and James Cagney are excellent in th...        154"
      ]
     },
     "execution_count": 6,
     "metadata": {},
     "output_type": "execute_result"
    }
   ],
   "source": [
    "reviews[0:10]"
   ]
  },
  {
   "cell_type": "markdown",
   "metadata": {},
   "source": [
    "We can plot the pmf for the lengths of the reviews to assess the content size."
   ]
  },
  {
   "cell_type": "code",
   "execution_count": 7,
   "metadata": {},
   "outputs": [
    {
     "data": {
      "image/png": "[encoded data removed]",
      "text/plain": [
       "<Figure size 432x288 with 1 Axes>"
      ]
     },
     "metadata": {
      "needs_background": "light"
     },
     "output_type": "display_data"
    }
   ],
   "source": [
    "import matplotlib.pyplot as plt\n",
    "%matplotlib inline\n",
    "\n",
    "num_bins = 20\n",
    "n, bins, patches = plt.hist(reviews[\"wordcount\"], num_bins, facecolor='blue', alpha=0.5)\n",
    "plt.show()"
   ]
  },
  {
   "cell_type": "markdown",
   "metadata": {},
   "source": [
    "Similarly, several other attributes such as the average lenght of word in each review can be observed if necessary according to the problem in hand."
   ]
  },
  {
   "cell_type": "markdown",
   "metadata": {},
   "source": [
    "# Data Cleaning"
   ]
  },
  {
   "cell_type": "markdown",
   "metadata": {},
   "source": [
    "Now, we move on to actual preprocessing of the text data. In this nodebook, we will cover the basic preprocessing that is done on text data before moving on to advanved preprocessing steps that require some NLP knowledge.<br>\n",
    "Note that not all preprocessing steps should be done for all the use cases. These steps are subjective. For example, in sentiment analysis, a word written in uppercase could have a latent meaning (say, the character was angry and the writer intended to illustrate the character's mood) in comparison to the same word written in lowercase."
   ]
  },
  {
   "cell_type": "code",
   "execution_count": 8,
   "metadata": {},
   "outputs": [
    {
     "data": {
      "text/html": [
       "<div>\n",
       "<style scoped>\n",
       "    .dataframe tbody tr th:only-of-type {\n",
       "        vertical-align: middle;\n",
       "    }\n",
       "\n",
       "    .dataframe tbody tr th {\n",
       "        vertical-align: top;\n",
       "    }\n",
       "\n",
       "    .dataframe thead th {\n",
       "        text-align: right;\n",
       "    }\n",
       "</style>\n",
       "<table border=\"1\" class=\"dataframe\">\n",
       "  <thead>\n",
       "    <tr style=\"text-align: right;\">\n",
       "      <th></th>\n",
       "      <th>review</th>\n",
       "    </tr>\n",
       "  </thead>\n",
       "  <tbody>\n",
       "    <tr>\n",
       "      <th>0_0.txt</th>\n",
       "      <td>I admit, the great majority of films released ...</td>\n",
       "    </tr>\n",
       "    <tr>\n",
       "      <th>10000_0.txt</th>\n",
       "      <td>Take a low budget, inexperienced actors doubli...</td>\n",
       "    </tr>\n",
       "    <tr>\n",
       "      <th>10001_0.txt</th>\n",
       "      <td>Everybody has seen 'Back To The Future,' right...</td>\n",
       "    </tr>\n",
       "    <tr>\n",
       "      <th>10002_0.txt</th>\n",
       "      <td>Doris Day was an icon of beauty in singing and...</td>\n",
       "    </tr>\n",
       "    <tr>\n",
       "      <th>10003_0.txt</th>\n",
       "      <td>After a series of silly, fun-loving movies, 19...</td>\n",
       "    </tr>\n",
       "  </tbody>\n",
       "</table>\n",
       "</div>"
      ],
      "text/plain": [
       "                                                        review\n",
       "0_0.txt      I admit, the great majority of films released ...\n",
       "10000_0.txt  Take a low budget, inexperienced actors doubli...\n",
       "10001_0.txt  Everybody has seen 'Back To The Future,' right...\n",
       "10002_0.txt  Doris Day was an icon of beauty in singing and...\n",
       "10003_0.txt  After a series of silly, fun-loving movies, 19..."
      ]
     },
     "execution_count": 8,
     "metadata": {},
     "output_type": "execute_result"
    }
   ],
   "source": [
    "reviews.drop([\"wordcount\"], axis = 1, inplace = True)\n",
    "reviews.head()"
   ]
  },
  {
   "cell_type": "markdown",
   "metadata": {},
   "source": [
    "### Remove HTML tags\n",
    "It is common among practitioners to collect text data for machine learning from the internet. As such, unwanted html tags get mixed with the content and introduce noise in the data. Before any preprocessing step is done, such unwanted tags should be removed."
   ]
  },
  {
   "cell_type": "code",
   "execution_count": 9,
   "metadata": {},
   "outputs": [
    {
     "data": {
      "text/html": [
       "<div>\n",
       "<style scoped>\n",
       "    .dataframe tbody tr th:only-of-type {\n",
       "        vertical-align: middle;\n",
       "    }\n",
       "\n",
       "    .dataframe tbody tr th {\n",
       "        vertical-align: top;\n",
       "    }\n",
       "\n",
       "    .dataframe thead th {\n",
       "        text-align: right;\n",
       "    }\n",
       "</style>\n",
       "<table border=\"1\" class=\"dataframe\">\n",
       "  <thead>\n",
       "    <tr style=\"text-align: right;\">\n",
       "      <th></th>\n",
       "      <th>review</th>\n",
       "    </tr>\n",
       "  </thead>\n",
       "  <tbody>\n",
       "    <tr>\n",
       "      <th>0_0.txt</th>\n",
       "      <td>&lt;html&gt; &lt;h1&gt; hello &lt;/h1&gt; &lt;/html&gt;I admit, the gr...</td>\n",
       "    </tr>\n",
       "    <tr>\n",
       "      <th>10000_0.txt</th>\n",
       "      <td>Take a low budget, inexperienced actors doubli...</td>\n",
       "    </tr>\n",
       "    <tr>\n",
       "      <th>10001_0.txt</th>\n",
       "      <td>Everybody has seen 'Back To The Future,' right...</td>\n",
       "    </tr>\n",
       "    <tr>\n",
       "      <th>10002_0.txt</th>\n",
       "      <td>Doris Day was an icon of beauty in singing and...</td>\n",
       "    </tr>\n",
       "    <tr>\n",
       "      <th>10003_0.txt</th>\n",
       "      <td>After a series of silly, fun-loving movies, 19...</td>\n",
       "    </tr>\n",
       "  </tbody>\n",
       "</table>\n",
       "</div>"
      ],
      "text/plain": [
       "                                                        review\n",
       "0_0.txt      <html> <h1> hello </h1> </html>I admit, the gr...\n",
       "10000_0.txt  Take a low budget, inexperienced actors doubli...\n",
       "10001_0.txt  Everybody has seen 'Back To The Future,' right...\n",
       "10002_0.txt  Doris Day was an icon of beauty in singing and...\n",
       "10003_0.txt  After a series of silly, fun-loving movies, 19..."
      ]
     },
     "execution_count": 9,
     "metadata": {},
     "output_type": "execute_result"
    }
   ],
   "source": [
    "from bs4 import BeautifulSoup\n",
    "\n",
    "def remove_html_tags(text):\n",
    "    return BeautifulSoup(text, \"html.parser\").get_text()\n",
    "\n",
    "# adding an html tag for the sake of illustration\n",
    "reviews.iloc[0,0] = \"<html> <h1> hello </h1> </html>\" + reviews.iloc[0,0] \n",
    "reviews.head()"
   ]
  },
  {
   "cell_type": "code",
   "execution_count": 10,
   "metadata": {},
   "outputs": [
    {
     "data": {
      "text/html": [
       "<div>\n",
       "<style scoped>\n",
       "    .dataframe tbody tr th:only-of-type {\n",
       "        vertical-align: middle;\n",
       "    }\n",
       "\n",
       "    .dataframe tbody tr th {\n",
       "        vertical-align: top;\n",
       "    }\n",
       "\n",
       "    .dataframe thead th {\n",
       "        text-align: right;\n",
       "    }\n",
       "</style>\n",
       "<table border=\"1\" class=\"dataframe\">\n",
       "  <thead>\n",
       "    <tr style=\"text-align: right;\">\n",
       "      <th></th>\n",
       "      <th>review</th>\n",
       "    </tr>\n",
       "  </thead>\n",
       "  <tbody>\n",
       "    <tr>\n",
       "      <th>0_0.txt</th>\n",
       "      <td>hello  I admit, the great majority of films ...</td>\n",
       "    </tr>\n",
       "    <tr>\n",
       "      <th>10000_0.txt</th>\n",
       "      <td>Take a low budget, inexperienced actors doubli...</td>\n",
       "    </tr>\n",
       "    <tr>\n",
       "      <th>10001_0.txt</th>\n",
       "      <td>Everybody has seen 'Back To The Future,' right...</td>\n",
       "    </tr>\n",
       "    <tr>\n",
       "      <th>10002_0.txt</th>\n",
       "      <td>Doris Day was an icon of beauty in singing and...</td>\n",
       "    </tr>\n",
       "    <tr>\n",
       "      <th>10003_0.txt</th>\n",
       "      <td>After a series of silly, fun-loving movies, 19...</td>\n",
       "    </tr>\n",
       "  </tbody>\n",
       "</table>\n",
       "</div>"
      ],
      "text/plain": [
       "                                                        review\n",
       "0_0.txt        hello  I admit, the great majority of films ...\n",
       "10000_0.txt  Take a low budget, inexperienced actors doubli...\n",
       "10001_0.txt  Everybody has seen 'Back To The Future,' right...\n",
       "10002_0.txt  Doris Day was an icon of beauty in singing and...\n",
       "10003_0.txt  After a series of silly, fun-loving movies, 19..."
      ]
     },
     "execution_count": 10,
     "metadata": {},
     "output_type": "execute_result"
    }
   ],
   "source": [
    "reviews[\"review\"] = [BeautifulSoup(text).get_text() for text in reviews[\"review\"] ]\n",
    "reviews.head()"
   ]
  },
  {
   "cell_type": "markdown",
   "metadata": {},
   "source": [
    "### Accented Characters Removal\n",
    "A lot of words in English language come from diverse backgrounds and are sometimes written in non-alphanumeric characters to preserve their origin. e.g., latté,résumé,etc. Hence, it is necessary to convert these accented characters into their English counterparts. If not done so, these characters will be lost when we remove non-alphanumeric characters down below. If these words are not preserved, they change to unwanted \"words\". e.g.latté becomes latt and résumé becomes rsum."
   ]
  },
  {
   "cell_type": "code",
   "execution_count": 11,
   "metadata": {},
   "outputs": [
    {
     "data": {
      "text/html": [
       "<div>\n",
       "<style scoped>\n",
       "    .dataframe tbody tr th:only-of-type {\n",
       "        vertical-align: middle;\n",
       "    }\n",
       "\n",
       "    .dataframe tbody tr th {\n",
       "        vertical-align: top;\n",
       "    }\n",
       "\n",
       "    .dataframe thead th {\n",
       "        text-align: right;\n",
       "    }\n",
       "</style>\n",
       "<table border=\"1\" class=\"dataframe\">\n",
       "  <thead>\n",
       "    <tr style=\"text-align: right;\">\n",
       "      <th></th>\n",
       "      <th>review</th>\n",
       "    </tr>\n",
       "  </thead>\n",
       "  <tbody>\n",
       "    <tr>\n",
       "      <th>0_0.txt</th>\n",
       "      <td>résumé   hello  I admit, the great majority of...</td>\n",
       "    </tr>\n",
       "    <tr>\n",
       "      <th>10000_0.txt</th>\n",
       "      <td>Take a low budget, inexperienced actors doubli...</td>\n",
       "    </tr>\n",
       "    <tr>\n",
       "      <th>10001_0.txt</th>\n",
       "      <td>Everybody has seen 'Back To The Future,' right...</td>\n",
       "    </tr>\n",
       "    <tr>\n",
       "      <th>10002_0.txt</th>\n",
       "      <td>Doris Day was an icon of beauty in singing and...</td>\n",
       "    </tr>\n",
       "    <tr>\n",
       "      <th>10003_0.txt</th>\n",
       "      <td>After a series of silly, fun-loving movies, 19...</td>\n",
       "    </tr>\n",
       "  </tbody>\n",
       "</table>\n",
       "</div>"
      ],
      "text/plain": [
       "                                                        review\n",
       "0_0.txt      résumé   hello  I admit, the great majority of...\n",
       "10000_0.txt  Take a low budget, inexperienced actors doubli...\n",
       "10001_0.txt  Everybody has seen 'Back To The Future,' right...\n",
       "10002_0.txt  Doris Day was an icon of beauty in singing and...\n",
       "10003_0.txt  After a series of silly, fun-loving movies, 19..."
      ]
     },
     "execution_count": 11,
     "metadata": {},
     "output_type": "execute_result"
    }
   ],
   "source": [
    "# adding an html tag for the sake of illustration\n",
    "reviews.iloc[0,0] = \"résumé \" + reviews.iloc[0,0] \n",
    "reviews.head()\n"
   ]
  },
  {
   "cell_type": "code",
   "execution_count": 12,
   "metadata": {},
   "outputs": [
    {
     "data": {
      "text/html": [
       "<div>\n",
       "<style scoped>\n",
       "    .dataframe tbody tr th:only-of-type {\n",
       "        vertical-align: middle;\n",
       "    }\n",
       "\n",
       "    .dataframe tbody tr th {\n",
       "        vertical-align: top;\n",
       "    }\n",
       "\n",
       "    .dataframe thead th {\n",
       "        text-align: right;\n",
       "    }\n",
       "</style>\n",
       "<table border=\"1\" class=\"dataframe\">\n",
       "  <thead>\n",
       "    <tr style=\"text-align: right;\">\n",
       "      <th></th>\n",
       "      <th>review</th>\n",
       "    </tr>\n",
       "  </thead>\n",
       "  <tbody>\n",
       "    <tr>\n",
       "      <th>0_0.txt</th>\n",
       "      <td>resume   hello  I admit, the great majority of...</td>\n",
       "    </tr>\n",
       "    <tr>\n",
       "      <th>10000_0.txt</th>\n",
       "      <td>Take a low budget, inexperienced actors doubli...</td>\n",
       "    </tr>\n",
       "    <tr>\n",
       "      <th>10001_0.txt</th>\n",
       "      <td>Everybody has seen 'Back To The Future,' right...</td>\n",
       "    </tr>\n",
       "    <tr>\n",
       "      <th>10002_0.txt</th>\n",
       "      <td>Doris Day was an icon of beauty in singing and...</td>\n",
       "    </tr>\n",
       "    <tr>\n",
       "      <th>10003_0.txt</th>\n",
       "      <td>After a series of silly, fun-loving movies, 19...</td>\n",
       "    </tr>\n",
       "  </tbody>\n",
       "</table>\n",
       "</div>"
      ],
      "text/plain": [
       "                                                        review\n",
       "0_0.txt      resume   hello  I admit, the great majority of...\n",
       "10000_0.txt  Take a low budget, inexperienced actors doubli...\n",
       "10001_0.txt  Everybody has seen 'Back To The Future,' right...\n",
       "10002_0.txt  Doris Day was an icon of beauty in singing and...\n",
       "10003_0.txt  After a series of silly, fun-loving movies, 19..."
      ]
     },
     "execution_count": 12,
     "metadata": {},
     "output_type": "execute_result"
    }
   ],
   "source": [
    "import unicodedata\n",
    "def remove_accented_chars(text):\n",
    "    text = unicodedata.normalize('NFKD', text).encode('ascii', 'ignore').decode('utf-8', 'ignore')\n",
    "    return text\n",
    "\n",
    "reviews[\"review\"] = [remove_accented_chars(text) for text in reviews[\"review\"] ]\n",
    "reviews.head()"
   ]
  },
  {
   "cell_type": "markdown",
   "metadata": {},
   "source": [
    "As evident above, the accented characters have changed to their English counterparts."
   ]
  },
  {
   "cell_type": "markdown",
   "metadata": {},
   "source": [
    "### Lower-casing\n",
    "In order to consider the words written in upper or lowercase as equivalent, all the words that contain uppercase characters should be converted into lowercase. However, this should be avoided when lower and uppercase are meanted to be considered different. e.g., to depict anger of the character"
   ]
  },
  {
   "cell_type": "code",
   "execution_count": 13,
   "metadata": {},
   "outputs": [
    {
     "data": {
      "text/html": [
       "<div>\n",
       "<style scoped>\n",
       "    .dataframe tbody tr th:only-of-type {\n",
       "        vertical-align: middle;\n",
       "    }\n",
       "\n",
       "    .dataframe tbody tr th {\n",
       "        vertical-align: top;\n",
       "    }\n",
       "\n",
       "    .dataframe thead th {\n",
       "        text-align: right;\n",
       "    }\n",
       "</style>\n",
       "<table border=\"1\" class=\"dataframe\">\n",
       "  <thead>\n",
       "    <tr style=\"text-align: right;\">\n",
       "      <th></th>\n",
       "      <th>review</th>\n",
       "      <th>review_lower</th>\n",
       "    </tr>\n",
       "  </thead>\n",
       "  <tbody>\n",
       "    <tr>\n",
       "      <th>0_0.txt</th>\n",
       "      <td>resume   hello  I admit, the great majority of...</td>\n",
       "      <td>resume   hello  i admit, the great majority of...</td>\n",
       "    </tr>\n",
       "    <tr>\n",
       "      <th>10000_0.txt</th>\n",
       "      <td>Take a low budget, inexperienced actors doubli...</td>\n",
       "      <td>take a low budget, inexperienced actors doubli...</td>\n",
       "    </tr>\n",
       "    <tr>\n",
       "      <th>10001_0.txt</th>\n",
       "      <td>Everybody has seen 'Back To The Future,' right...</td>\n",
       "      <td>everybody has seen 'back to the future,' right...</td>\n",
       "    </tr>\n",
       "    <tr>\n",
       "      <th>10002_0.txt</th>\n",
       "      <td>Doris Day was an icon of beauty in singing and...</td>\n",
       "      <td>doris day was an icon of beauty in singing and...</td>\n",
       "    </tr>\n",
       "    <tr>\n",
       "      <th>10003_0.txt</th>\n",
       "      <td>After a series of silly, fun-loving movies, 19...</td>\n",
       "      <td>after a series of silly, fun-loving movies, 19...</td>\n",
       "    </tr>\n",
       "  </tbody>\n",
       "</table>\n",
       "</div>"
      ],
      "text/plain": [
       "                                                        review  \\\n",
       "0_0.txt      resume   hello  I admit, the great majority of...   \n",
       "10000_0.txt  Take a low budget, inexperienced actors doubli...   \n",
       "10001_0.txt  Everybody has seen 'Back To The Future,' right...   \n",
       "10002_0.txt  Doris Day was an icon of beauty in singing and...   \n",
       "10003_0.txt  After a series of silly, fun-loving movies, 19...   \n",
       "\n",
       "                                                  review_lower  \n",
       "0_0.txt      resume   hello  i admit, the great majority of...  \n",
       "10000_0.txt  take a low budget, inexperienced actors doubli...  \n",
       "10001_0.txt  everybody has seen 'back to the future,' right...  \n",
       "10002_0.txt  doris day was an icon of beauty in singing and...  \n",
       "10003_0.txt  after a series of silly, fun-loving movies, 19...  "
      ]
     },
     "execution_count": 13,
     "metadata": {},
     "output_type": "execute_result"
    }
   ],
   "source": [
    "reviews[\"review_lower\"] = reviews[\"review\"].str.lower() # use panda's inbuilt method to convert each item to lowercase\n",
    "reviews.head()"
   ]
  },
  {
   "cell_type": "markdown",
   "metadata": {},
   "source": [
    "### Removal of Word Contractions\n",
    "In order to treat the words and their contractions as equivalent, we need to convert the contractions to their original form. Typically, contractions appear with an apostrophe. If not expanded, the apostrophe is removed when special characters are removed during preprocessing and the two forms of the same word get treated as different. e.g., \"don't\" and \"do not\". <br>\n",
    "CONTRACTION_MAP taken from https://github.com/dipanjanS"
   ]
  },
  {
   "cell_type": "code",
   "execution_count": 14,
   "metadata": {},
   "outputs": [],
   "source": [
    "CONTRACTION_MAP = {\n",
    "\"ain't\": \"is not\",\n",
    "\"aren't\": \"are not\",\n",
    "\"can't\": \"cannot\",\n",
    "\"can't've\": \"cannot have\",\n",
    "\"'cause\": \"because\",\n",
    "\"could've\": \"could have\",\n",
    "\"couldn't\": \"could not\",\n",
    "\"couldn't've\": \"could not have\",\n",
    "\"didn't\": \"did not\",\n",
    "\"doesn't\": \"does not\",\n",
    "\"don't\": \"do not\",\n",
    "\"hadn't\": \"had not\",\n",
    "\"hadn't've\": \"had not have\",\n",
    "\"hasn't\": \"has not\",\n",
    "\"haven't\": \"have not\",\n",
    "\"he'd\": \"he would\",\n",
    "\"he'd've\": \"he would have\",\n",
    "\"he'll\": \"he will\",\n",
    "\"he'll've\": \"he he will have\",\n",
    "\"he's\": \"he is\",\n",
    "\"how'd\": \"how did\",\n",
    "\"how'd'y\": \"how do you\",\n",
    "\"how'll\": \"how will\",\n",
    "\"how's\": \"how is\",\n",
    "\"I'd\": \"I would\",\n",
    "\"I'd've\": \"I would have\",\n",
    "\"I'll\": \"I will\",\n",
    "\"I'll've\": \"I will have\",\n",
    "\"I'm\": \"I am\",\n",
    "\"I've\": \"I have\",\n",
    "\"i'd\": \"i would\",\n",
    "\"i'd've\": \"i would have\",\n",
    "\"i'll\": \"i will\",\n",
    "\"i'll've\": \"i will have\",\n",
    "\"i'm\": \"i am\",\n",
    "\"i've\": \"i have\",\n",
    "\"isn't\": \"is not\",\n",
    "\"it'd\": \"it would\",\n",
    "\"it'd've\": \"it would have\",\n",
    "\"it'll\": \"it will\",\n",
    "\"it'll've\": \"it will have\",\n",
    "\"it's\": \"it is\",\n",
    "\"let's\": \"let us\",\n",
    "\"ma'am\": \"madam\",\n",
    "\"mayn't\": \"may not\",\n",
    "\"might've\": \"might have\",\n",
    "\"mightn't\": \"might not\",\n",
    "\"mightn't've\": \"might not have\",\n",
    "\"must've\": \"must have\",\n",
    "\"mustn't\": \"must not\",\n",
    "\"mustn't've\": \"must not have\",\n",
    "\"needn't\": \"need not\",\n",
    "\"needn't've\": \"need not have\",\n",
    "\"o'clock\": \"of the clock\",\n",
    "\"oughtn't\": \"ought not\",\n",
    "\"oughtn't've\": \"ought not have\",\n",
    "\"shan't\": \"shall not\",\n",
    "\"sha'n't\": \"shall not\",\n",
    "\"shan't've\": \"shall not have\",\n",
    "\"she'd\": \"she would\",\n",
    "\"she'd've\": \"she would have\",\n",
    "\"she'll\": \"she will\",\n",
    "\"she'll've\": \"she will have\",\n",
    "\"she's\": \"she is\",\n",
    "\"should've\": \"should have\",\n",
    "\"shouldn't\": \"should not\",\n",
    "\"shouldn't've\": \"should not have\",\n",
    "\"so've\": \"so have\",\n",
    "\"so's\": \"so as\",\n",
    "\"that'd\": \"that would\",\n",
    "\"that'd've\": \"that would have\",\n",
    "\"that's\": \"that is\",\n",
    "\"there'd\": \"there would\",\n",
    "\"there'd've\": \"there would have\",\n",
    "\"there's\": \"there is\",\n",
    "\"they'd\": \"they would\",\n",
    "\"they'd've\": \"they would have\",\n",
    "\"they'll\": \"they will\",\n",
    "\"they'll've\": \"they will have\",\n",
    "\"they're\": \"they are\",\n",
    "\"they've\": \"they have\",\n",
    "\"to've\": \"to have\",\n",
    "\"wasn't\": \"was not\",\n",
    "\"we'd\": \"we would\",\n",
    "\"we'd've\": \"we would have\",\n",
    "\"we'll\": \"we will\",\n",
    "\"we'll've\": \"we will have\",\n",
    "\"we're\": \"we are\",\n",
    "\"we've\": \"we have\",\n",
    "\"weren't\": \"were not\",\n",
    "\"what'll\": \"what will\",\n",
    "\"what'll've\": \"what will have\",\n",
    "\"what're\": \"what are\",\n",
    "\"what's\": \"what is\",\n",
    "\"what've\": \"what have\",\n",
    "\"when's\": \"when is\",\n",
    "\"when've\": \"when have\",\n",
    "\"where'd\": \"where did\",\n",
    "\"where's\": \"where is\",\n",
    "\"where've\": \"where have\",\n",
    "\"who'll\": \"who will\",\n",
    "\"who'll've\": \"who will have\",\n",
    "\"who's\": \"who is\",\n",
    "\"who've\": \"who have\",\n",
    "\"why's\": \"why is\",\n",
    "\"why've\": \"why have\",\n",
    "\"will've\": \"will have\",\n",
    "\"won't\": \"will not\",\n",
    "\"won't've\": \"will not have\",\n",
    "\"would've\": \"would have\",\n",
    "\"wouldn't\": \"would not\",\n",
    "\"wouldn't've\": \"would not have\",\n",
    "\"y'all\": \"you all\",\n",
    "\"y'all'd\": \"you all would\",\n",
    "\"y'all'd've\": \"you all would have\",\n",
    "\"y'all're\": \"you all are\",\n",
    "\"y'all've\": \"you all have\",\n",
    "\"you'd\": \"you would\",\n",
    "\"you'd've\": \"you would have\",\n",
    "\"you'll\": \"you will\",\n",
    "\"you'll've\": \"you will have\",\n",
    "\"you're\": \"you are\",\n",
    "\"you've\": \"you have\"\n",
    "}"
   ]
  },
  {
   "cell_type": "code",
   "execution_count": 15,
   "metadata": {},
   "outputs": [],
   "source": [
    "# from https://github.com/dipanjanS\n",
    "\n",
    "import re # regular expression\n",
    "\n",
    "def expand_contractions(text, contraction_mapping=CONTRACTION_MAP):\n",
    "    \n",
    "    contractions_pattern = re.compile('({})'.format('|'.join(contraction_mapping.keys())), \n",
    "                                      flags=re.IGNORECASE|re.DOTALL)\n",
    "    def expand_match(contraction):\n",
    "        match = contraction.group(0)\n",
    "        first_char = match[0]\n",
    "        expanded_contraction = contraction_mapping.get(match)\\\n",
    "                                if contraction_mapping.get(match)\\\n",
    "                                else contraction_mapping.get(match.lower())                       \n",
    "        expanded_contraction = first_char+expanded_contraction[1:]\n",
    "        return expanded_contraction\n",
    "        \n",
    "    expanded_text = contractions_pattern.sub(expand_match, text)\n",
    "    expanded_text = re.sub(\"'\", \"\", expanded_text)\n",
    "    return expanded_text"
   ]
  },
  {
   "cell_type": "code",
   "execution_count": 16,
   "metadata": {},
   "outputs": [
    {
     "data": {
      "text/html": [
       "<div>\n",
       "<style scoped>\n",
       "    .dataframe tbody tr th:only-of-type {\n",
       "        vertical-align: middle;\n",
       "    }\n",
       "\n",
       "    .dataframe tbody tr th {\n",
       "        vertical-align: top;\n",
       "    }\n",
       "\n",
       "    .dataframe thead th {\n",
       "        text-align: right;\n",
       "    }\n",
       "</style>\n",
       "<table border=\"1\" class=\"dataframe\">\n",
       "  <thead>\n",
       "    <tr style=\"text-align: right;\">\n",
       "      <th></th>\n",
       "      <th>review</th>\n",
       "    </tr>\n",
       "  </thead>\n",
       "  <tbody>\n",
       "    <tr>\n",
       "      <th>0_0.txt</th>\n",
       "      <td>It's mine.resume   hello  I admit, the great m...</td>\n",
       "    </tr>\n",
       "    <tr>\n",
       "      <th>10000_0.txt</th>\n",
       "      <td>Take a low budget, inexperienced actors doubli...</td>\n",
       "    </tr>\n",
       "    <tr>\n",
       "      <th>10001_0.txt</th>\n",
       "      <td>Everybody has seen 'Back To The Future,' right...</td>\n",
       "    </tr>\n",
       "    <tr>\n",
       "      <th>10002_0.txt</th>\n",
       "      <td>Doris Day was an icon of beauty in singing and...</td>\n",
       "    </tr>\n",
       "    <tr>\n",
       "      <th>10003_0.txt</th>\n",
       "      <td>After a series of silly, fun-loving movies, 19...</td>\n",
       "    </tr>\n",
       "  </tbody>\n",
       "</table>\n",
       "</div>"
      ],
      "text/plain": [
       "                                                        review\n",
       "0_0.txt      It's mine.resume   hello  I admit, the great m...\n",
       "10000_0.txt  Take a low budget, inexperienced actors doubli...\n",
       "10001_0.txt  Everybody has seen 'Back To The Future,' right...\n",
       "10002_0.txt  Doris Day was an icon of beauty in singing and...\n",
       "10003_0.txt  After a series of silly, fun-loving movies, 19..."
      ]
     },
     "execution_count": 16,
     "metadata": {},
     "output_type": "execute_result"
    }
   ],
   "source": [
    "reviews.drop([\"review_lower\"], axis = 1, inplace = True)\n",
    "\n",
    "# adding an html tag for the sake of illustration\n",
    "reviews.iloc[0,0] = \"It's mine.\" + reviews.iloc[0,0] \n",
    "reviews.head()"
   ]
  },
  {
   "cell_type": "code",
   "execution_count": 17,
   "metadata": {},
   "outputs": [
    {
     "data": {
      "text/html": [
       "<div>\n",
       "<style scoped>\n",
       "    .dataframe tbody tr th:only-of-type {\n",
       "        vertical-align: middle;\n",
       "    }\n",
       "\n",
       "    .dataframe tbody tr th {\n",
       "        vertical-align: top;\n",
       "    }\n",
       "\n",
       "    .dataframe thead th {\n",
       "        text-align: right;\n",
       "    }\n",
       "</style>\n",
       "<table border=\"1\" class=\"dataframe\">\n",
       "  <thead>\n",
       "    <tr style=\"text-align: right;\">\n",
       "      <th></th>\n",
       "      <th>review</th>\n",
       "      <th>review_no_contractions</th>\n",
       "    </tr>\n",
       "  </thead>\n",
       "  <tbody>\n",
       "    <tr>\n",
       "      <th>0_0.txt</th>\n",
       "      <td>It's mine.resume   hello  I admit, the great m...</td>\n",
       "      <td>It is mine.resume   hello  I admit, the great ...</td>\n",
       "    </tr>\n",
       "    <tr>\n",
       "      <th>10000_0.txt</th>\n",
       "      <td>Take a low budget, inexperienced actors doubli...</td>\n",
       "      <td>Take a low budget, inexperienced actors doubli...</td>\n",
       "    </tr>\n",
       "    <tr>\n",
       "      <th>10001_0.txt</th>\n",
       "      <td>Everybody has seen 'Back To The Future,' right...</td>\n",
       "      <td>Everybody has seen Back To The Future, right? ...</td>\n",
       "    </tr>\n",
       "    <tr>\n",
       "      <th>10002_0.txt</th>\n",
       "      <td>Doris Day was an icon of beauty in singing and...</td>\n",
       "      <td>Doris Day was an icon of beauty in singing and...</td>\n",
       "    </tr>\n",
       "    <tr>\n",
       "      <th>10003_0.txt</th>\n",
       "      <td>After a series of silly, fun-loving movies, 19...</td>\n",
       "      <td>After a series of silly, fun-loving movies, 19...</td>\n",
       "    </tr>\n",
       "  </tbody>\n",
       "</table>\n",
       "</div>"
      ],
      "text/plain": [
       "                                                        review  \\\n",
       "0_0.txt      It's mine.resume   hello  I admit, the great m...   \n",
       "10000_0.txt  Take a low budget, inexperienced actors doubli...   \n",
       "10001_0.txt  Everybody has seen 'Back To The Future,' right...   \n",
       "10002_0.txt  Doris Day was an icon of beauty in singing and...   \n",
       "10003_0.txt  After a series of silly, fun-loving movies, 19...   \n",
       "\n",
       "                                        review_no_contractions  \n",
       "0_0.txt      It is mine.resume   hello  I admit, the great ...  \n",
       "10000_0.txt  Take a low budget, inexperienced actors doubli...  \n",
       "10001_0.txt  Everybody has seen Back To The Future, right? ...  \n",
       "10002_0.txt  Doris Day was an icon of beauty in singing and...  \n",
       "10003_0.txt  After a series of silly, fun-loving movies, 19...  "
      ]
     },
     "execution_count": 17,
     "metadata": {},
     "output_type": "execute_result"
    }
   ],
   "source": [
    "reviews[\"review_no_contractions\"] = [expand_contractions(review) for review in reviews[\"review\"]]\n",
    "reviews.head()"
   ]
  },
  {
   "cell_type": "markdown",
   "metadata": {},
   "source": [
    "### Punctuation/ Special Character Removal\n",
    "Punctuations and special characters typically do not add meaning to the text. e.g., The following two sentences still convey the same meaning with and wihout the ! sign. Sentence 1 : \"Hurray! I won\". Sentence 2 : \"Hurray I won\". This can be achieved in multiple ways using pandas or nltk library, or plain old python. Here we will replace every single character that is not either a lowercase or an uppercase english alphabet with a whitespace.<br>\n"
   ]
  },
  {
   "cell_type": "code",
   "execution_count": 18,
   "metadata": {},
   "outputs": [
    {
     "data": {
      "text/html": [
       "<div>\n",
       "<style scoped>\n",
       "    .dataframe tbody tr th:only-of-type {\n",
       "        vertical-align: middle;\n",
       "    }\n",
       "\n",
       "    .dataframe tbody tr th {\n",
       "        vertical-align: top;\n",
       "    }\n",
       "\n",
       "    .dataframe thead th {\n",
       "        text-align: right;\n",
       "    }\n",
       "</style>\n",
       "<table border=\"1\" class=\"dataframe\">\n",
       "  <thead>\n",
       "    <tr style=\"text-align: right;\">\n",
       "      <th></th>\n",
       "      <th>review</th>\n",
       "      <th>review_no_punc_and_nums</th>\n",
       "    </tr>\n",
       "  </thead>\n",
       "  <tbody>\n",
       "    <tr>\n",
       "      <th>0_0.txt</th>\n",
       "      <td>It's mine.resume   hello  I admit, the great m...</td>\n",
       "      <td>It s mine resume   hello  I admit  the great m...</td>\n",
       "    </tr>\n",
       "    <tr>\n",
       "      <th>10000_0.txt</th>\n",
       "      <td>Take a low budget, inexperienced actors doubli...</td>\n",
       "      <td>Take a low budget  inexperienced actors doubli...</td>\n",
       "    </tr>\n",
       "    <tr>\n",
       "      <th>10001_0.txt</th>\n",
       "      <td>Everybody has seen 'Back To The Future,' right...</td>\n",
       "      <td>Everybody has seen  Back To The Future   right...</td>\n",
       "    </tr>\n",
       "    <tr>\n",
       "      <th>10002_0.txt</th>\n",
       "      <td>Doris Day was an icon of beauty in singing and...</td>\n",
       "      <td>Doris Day was an icon of beauty in singing and...</td>\n",
       "    </tr>\n",
       "    <tr>\n",
       "      <th>10003_0.txt</th>\n",
       "      <td>After a series of silly, fun-loving movies, 19...</td>\n",
       "      <td>After a series of silly  fun loving movies    ...</td>\n",
       "    </tr>\n",
       "  </tbody>\n",
       "</table>\n",
       "</div>"
      ],
      "text/plain": [
       "                                                        review  \\\n",
       "0_0.txt      It's mine.resume   hello  I admit, the great m...   \n",
       "10000_0.txt  Take a low budget, inexperienced actors doubli...   \n",
       "10001_0.txt  Everybody has seen 'Back To The Future,' right...   \n",
       "10002_0.txt  Doris Day was an icon of beauty in singing and...   \n",
       "10003_0.txt  After a series of silly, fun-loving movies, 19...   \n",
       "\n",
       "                                       review_no_punc_and_nums  \n",
       "0_0.txt      It s mine resume   hello  I admit  the great m...  \n",
       "10000_0.txt  Take a low budget  inexperienced actors doubli...  \n",
       "10001_0.txt  Everybody has seen  Back To The Future   right...  \n",
       "10002_0.txt  Doris Day was an icon of beauty in singing and...  \n",
       "10003_0.txt  After a series of silly  fun loving movies    ...  "
      ]
     },
     "execution_count": 18,
     "metadata": {},
     "output_type": "execute_result"
    }
   ],
   "source": [
    "reviews.drop([\"review_no_contractions\"], axis = 1, inplace = True)\n",
    "reviews[\"review_no_punc_and_nums\"] = reviews[\"review\"].str.replace(pat = \"[^a-zA-Z]\", repl = \" \")\n",
    "reviews.head()"
   ]
  },
  {
   "cell_type": "markdown",
   "metadata": {},
   "source": [
    "As seen above, the punctuations and digits in the text are removed.<br><br>\n",
    "However, this should be taken with a grain of salt.<br>There can be cases where punctuations can add meanings. In such cases, it is better to retain the punctuations.\n",
    "<br>Further, numbers can sometime be helpful in NLP. For example, im movie review, if a review contains the digit 9 somewhere, there is a good chance this reviewer gave a score of 9 and this information can be very helpful for review classification. In such cases we do not want to discard the numbers in the text. However, if the problem at hand is sentiment analysis, a number might not add much information.\n",
    " \n",
    "\n",
    "<br>This case will be handled down below. Thus, we can choose not to remove the numbers as below."
   ]
  },
  {
   "cell_type": "code",
   "execution_count": 19,
   "metadata": {},
   "outputs": [
    {
     "data": {
      "text/html": [
       "<div>\n",
       "<style scoped>\n",
       "    .dataframe tbody tr th:only-of-type {\n",
       "        vertical-align: middle;\n",
       "    }\n",
       "\n",
       "    .dataframe tbody tr th {\n",
       "        vertical-align: top;\n",
       "    }\n",
       "\n",
       "    .dataframe thead th {\n",
       "        text-align: right;\n",
       "    }\n",
       "</style>\n",
       "<table border=\"1\" class=\"dataframe\">\n",
       "  <thead>\n",
       "    <tr style=\"text-align: right;\">\n",
       "      <th></th>\n",
       "      <th>review</th>\n",
       "      <th>review_no_punc</th>\n",
       "    </tr>\n",
       "  </thead>\n",
       "  <tbody>\n",
       "    <tr>\n",
       "      <th>0_0.txt</th>\n",
       "      <td>It's mine.resume   hello  I admit, the great m...</td>\n",
       "      <td>It s mine resume   hello  I admit  the great m...</td>\n",
       "    </tr>\n",
       "    <tr>\n",
       "      <th>10000_0.txt</th>\n",
       "      <td>Take a low budget, inexperienced actors doubli...</td>\n",
       "      <td>Take a low budget  inexperienced actors doubli...</td>\n",
       "    </tr>\n",
       "    <tr>\n",
       "      <th>10001_0.txt</th>\n",
       "      <td>Everybody has seen 'Back To The Future,' right...</td>\n",
       "      <td>Everybody has seen  Back To The Future   right...</td>\n",
       "    </tr>\n",
       "    <tr>\n",
       "      <th>10002_0.txt</th>\n",
       "      <td>Doris Day was an icon of beauty in singing and...</td>\n",
       "      <td>Doris Day was an icon of beauty in singing and...</td>\n",
       "    </tr>\n",
       "    <tr>\n",
       "      <th>10003_0.txt</th>\n",
       "      <td>After a series of silly, fun-loving movies, 19...</td>\n",
       "      <td>After a series of silly  fun loving movies  19...</td>\n",
       "    </tr>\n",
       "  </tbody>\n",
       "</table>\n",
       "</div>"
      ],
      "text/plain": [
       "                                                        review  \\\n",
       "0_0.txt      It's mine.resume   hello  I admit, the great m...   \n",
       "10000_0.txt  Take a low budget, inexperienced actors doubli...   \n",
       "10001_0.txt  Everybody has seen 'Back To The Future,' right...   \n",
       "10002_0.txt  Doris Day was an icon of beauty in singing and...   \n",
       "10003_0.txt  After a series of silly, fun-loving movies, 19...   \n",
       "\n",
       "                                                review_no_punc  \n",
       "0_0.txt      It s mine resume   hello  I admit  the great m...  \n",
       "10000_0.txt  Take a low budget  inexperienced actors doubli...  \n",
       "10001_0.txt  Everybody has seen  Back To The Future   right...  \n",
       "10002_0.txt  Doris Day was an icon of beauty in singing and...  \n",
       "10003_0.txt  After a series of silly  fun loving movies  19...  "
      ]
     },
     "execution_count": 19,
     "metadata": {},
     "output_type": "execute_result"
    }
   ],
   "source": [
    "reviews.drop([\"review_no_punc_and_nums\"], axis = 1, inplace = True)\n",
    "reviews[\"review_no_punc\"] = reviews[\"review\"].str.replace(pat = \"[^a-zA-Z0-9]\", repl = \" \")\n",
    "reviews.head()"
   ]
  },
  {
   "cell_type": "markdown",
   "metadata": {},
   "source": [
    "As seen above, the number 19 is well preserved in the 5th review."
   ]
  },
  {
   "cell_type": "markdown",
   "metadata": {},
   "source": [
    "Further we can choose to preserve certain characters like $ and \\% and instead convert them to their text equivalents to retain their information in the text normalization step."
   ]
  },
  {
   "cell_type": "markdown",
   "metadata": {},
   "source": [
    "### Whitespace Removal\n",
    "Text can contain unwanted white spaces as well. \\t is a horizontal tab, \\v is a vertical tab and \\r is a carriage return."
   ]
  },
  {
   "cell_type": "code",
   "execution_count": 20,
   "metadata": {},
   "outputs": [
    {
     "data": {
      "text/html": [
       "<div>\n",
       "<style scoped>\n",
       "    .dataframe tbody tr th:only-of-type {\n",
       "        vertical-align: middle;\n",
       "    }\n",
       "\n",
       "    .dataframe tbody tr th {\n",
       "        vertical-align: top;\n",
       "    }\n",
       "\n",
       "    .dataframe thead th {\n",
       "        text-align: right;\n",
       "    }\n",
       "</style>\n",
       "<table border=\"1\" class=\"dataframe\">\n",
       "  <thead>\n",
       "    <tr style=\"text-align: right;\">\n",
       "      <th></th>\n",
       "      <th>review</th>\n",
       "      <th>review_no_punc</th>\n",
       "    </tr>\n",
       "  </thead>\n",
       "  <tbody>\n",
       "    <tr>\n",
       "      <th>0_0.txt</th>\n",
       "      <td>Hi.\u000b",
       "It's mine.resume   hello  I admit, the gre...</td>\n",
       "      <td>It s mine resume   hello  I admit  the great m...</td>\n",
       "    </tr>\n",
       "    <tr>\n",
       "      <th>10000_0.txt</th>\n",
       "      <td>Hi.\\tTake a low budget, inexperienced actors d...</td>\n",
       "      <td>Take a low budget  inexperienced actors doubli...</td>\n",
       "    </tr>\n",
       "    <tr>\n",
       "      <th>10001_0.txt</th>\n",
       "      <td>Everybody has seen 'Back To The Future,' right...</td>\n",
       "      <td>Everybody has seen  Back To The Future   right...</td>\n",
       "    </tr>\n",
       "    <tr>\n",
       "      <th>10002_0.txt</th>\n",
       "      <td>Doris Day was an icon of beauty in singing and...</td>\n",
       "      <td>Doris Day was an icon of beauty in singing and...</td>\n",
       "    </tr>\n",
       "    <tr>\n",
       "      <th>10003_0.txt</th>\n",
       "      <td>After a series of silly, fun-loving movies, 19...</td>\n",
       "      <td>After a series of silly  fun loving movies  19...</td>\n",
       "    </tr>\n",
       "  </tbody>\n",
       "</table>\n",
       "</div>"
      ],
      "text/plain": [
       "                                                        review  \\\n",
       "0_0.txt      Hi.\n",
       "It's mine.resume   hello  I admit, the gre...   \n",
       "10000_0.txt  Hi.\\tTake a low budget, inexperienced actors d...   \n",
       "10001_0.txt  Everybody has seen 'Back To The Future,' right...   \n",
       "10002_0.txt  Doris Day was an icon of beauty in singing and...   \n",
       "10003_0.txt  After a series of silly, fun-loving movies, 19...   \n",
       "\n",
       "                                                review_no_punc  \n",
       "0_0.txt      It s mine resume   hello  I admit  the great m...  \n",
       "10000_0.txt  Take a low budget  inexperienced actors doubli...  \n",
       "10001_0.txt  Everybody has seen  Back To The Future   right...  \n",
       "10002_0.txt  Doris Day was an icon of beauty in singing and...  \n",
       "10003_0.txt  After a series of silly  fun loving movies  19...  "
      ]
     },
     "execution_count": 20,
     "metadata": {},
     "output_type": "execute_result"
    }
   ],
   "source": [
    "# adding an html tag for the sake of illustration\n",
    "reviews.iloc[0,0] = \"Hi.\\v\" + reviews.iloc[0,0]\n",
    "reviews.iloc[1,0] = \"Hi.\\t\" + reviews.iloc[1,0] \n",
    "reviews.head()\n",
    "\n"
   ]
  },
  {
   "cell_type": "code",
   "execution_count": 21,
   "metadata": {},
   "outputs": [
    {
     "data": {
      "text/html": [
       "<div>\n",
       "<style scoped>\n",
       "    .dataframe tbody tr th:only-of-type {\n",
       "        vertical-align: middle;\n",
       "    }\n",
       "\n",
       "    .dataframe tbody tr th {\n",
       "        vertical-align: top;\n",
       "    }\n",
       "\n",
       "    .dataframe thead th {\n",
       "        text-align: right;\n",
       "    }\n",
       "</style>\n",
       "<table border=\"1\" class=\"dataframe\">\n",
       "  <thead>\n",
       "    <tr style=\"text-align: right;\">\n",
       "      <th></th>\n",
       "      <th>review</th>\n",
       "      <th>review_no_punc</th>\n",
       "      <th>review_no_extra_whitespace</th>\n",
       "    </tr>\n",
       "  </thead>\n",
       "  <tbody>\n",
       "    <tr>\n",
       "      <th>0_0.txt</th>\n",
       "      <td>Hi.\u000b",
       "It's mine.resume   hello  I admit, the gre...</td>\n",
       "      <td>It s mine resume   hello  I admit  the great m...</td>\n",
       "      <td>Hi. It's mine.resume   hello  I admit, the gre...</td>\n",
       "    </tr>\n",
       "    <tr>\n",
       "      <th>10000_0.txt</th>\n",
       "      <td>Hi.\\tTake a low budget, inexperienced actors d...</td>\n",
       "      <td>Take a low budget  inexperienced actors doubli...</td>\n",
       "      <td>Hi. Take a low budget, inexperienced actors do...</td>\n",
       "    </tr>\n",
       "    <tr>\n",
       "      <th>10001_0.txt</th>\n",
       "      <td>Everybody has seen 'Back To The Future,' right...</td>\n",
       "      <td>Everybody has seen  Back To The Future   right...</td>\n",
       "      <td>Everybody has seen 'Back To The Future,' right...</td>\n",
       "    </tr>\n",
       "    <tr>\n",
       "      <th>10002_0.txt</th>\n",
       "      <td>Doris Day was an icon of beauty in singing and...</td>\n",
       "      <td>Doris Day was an icon of beauty in singing and...</td>\n",
       "      <td>Doris Day was an icon of beauty in singing and...</td>\n",
       "    </tr>\n",
       "    <tr>\n",
       "      <th>10003_0.txt</th>\n",
       "      <td>After a series of silly, fun-loving movies, 19...</td>\n",
       "      <td>After a series of silly  fun loving movies  19...</td>\n",
       "      <td>After a series of silly, fun-loving movies, 19...</td>\n",
       "    </tr>\n",
       "  </tbody>\n",
       "</table>\n",
       "</div>"
      ],
      "text/plain": [
       "                                                        review  \\\n",
       "0_0.txt      Hi.\n",
       "It's mine.resume   hello  I admit, the gre...   \n",
       "10000_0.txt  Hi.\\tTake a low budget, inexperienced actors d...   \n",
       "10001_0.txt  Everybody has seen 'Back To The Future,' right...   \n",
       "10002_0.txt  Doris Day was an icon of beauty in singing and...   \n",
       "10003_0.txt  After a series of silly, fun-loving movies, 19...   \n",
       "\n",
       "                                                review_no_punc  \\\n",
       "0_0.txt      It s mine resume   hello  I admit  the great m...   \n",
       "10000_0.txt  Take a low budget  inexperienced actors doubli...   \n",
       "10001_0.txt  Everybody has seen  Back To The Future   right...   \n",
       "10002_0.txt  Doris Day was an icon of beauty in singing and...   \n",
       "10003_0.txt  After a series of silly  fun loving movies  19...   \n",
       "\n",
       "                                    review_no_extra_whitespace  \n",
       "0_0.txt      Hi. It's mine.resume   hello  I admit, the gre...  \n",
       "10000_0.txt  Hi. Take a low budget, inexperienced actors do...  \n",
       "10001_0.txt  Everybody has seen 'Back To The Future,' right...  \n",
       "10002_0.txt  Doris Day was an icon of beauty in singing and...  \n",
       "10003_0.txt  After a series of silly, fun-loving movies, 19...  "
      ]
     },
     "execution_count": 21,
     "metadata": {},
     "output_type": "execute_result"
    }
   ],
   "source": [
    "# remove extra white spaces\n",
    "\n",
    "reviews[\"review_no_extra_whitespace\"] = [re.sub(r'[\\r|\\v|\\t|\\n|\\r\\n]+', ' ',review) for review in reviews[\"review\"]]\n",
    "reviews.head()"
   ]
  },
  {
   "cell_type": "markdown",
   "metadata": {},
   "source": [
    "### Stop Words Removal\n",
    "The words that occur frequently in sentences but do not provide additional content of their own are called stop words. e.g., \"the\", \"very\", \"just\", etc. These words act as noise in the data. However, there is no clear demarcation on which words should be considered stop words. Stop words can be removed by either manually creating a set of stop words and filtering them out or using a predefined set of stop words from a library such as nltk or spacy.<br>\n",
    "For example, lets see what words are considered stop words in nltk library."
   ]
  },
  {
   "cell_type": "code",
   "execution_count": 24,
   "metadata": {},
   "outputs": [
    {
     "data": {
      "text/plain": [
       "{'a',\n",
       " 'about',\n",
       " 'above',\n",
       " 'after',\n",
       " 'again',\n",
       " 'against',\n",
       " 'ain',\n",
       " 'all',\n",
       " 'am',\n",
       " 'an',\n",
       " 'and',\n",
       " 'any',\n",
       " 'are',\n",
       " 'aren',\n",
       " \"aren't\",\n",
       " 'as',\n",
       " 'at',\n",
       " 'be',\n",
       " 'because',\n",
       " 'been',\n",
       " 'before',\n",
       " 'being',\n",
       " 'below',\n",
       " 'between',\n",
       " 'both',\n",
       " 'but',\n",
       " 'by',\n",
       " 'can',\n",
       " 'couldn',\n",
       " \"couldn't\",\n",
       " 'd',\n",
       " 'did',\n",
       " 'didn',\n",
       " \"didn't\",\n",
       " 'do',\n",
       " 'does',\n",
       " 'doesn',\n",
       " \"doesn't\",\n",
       " 'doing',\n",
       " 'don',\n",
       " \"don't\",\n",
       " 'down',\n",
       " 'during',\n",
       " 'each',\n",
       " 'few',\n",
       " 'for',\n",
       " 'from',\n",
       " 'further',\n",
       " 'had',\n",
       " 'hadn',\n",
       " \"hadn't\",\n",
       " 'has',\n",
       " 'hasn',\n",
       " \"hasn't\",\n",
       " 'have',\n",
       " 'haven',\n",
       " \"haven't\",\n",
       " 'having',\n",
       " 'he',\n",
       " 'her',\n",
       " 'here',\n",
       " 'hers',\n",
       " 'herself',\n",
       " 'him',\n",
       " 'himself',\n",
       " 'his',\n",
       " 'how',\n",
       " 'i',\n",
       " 'if',\n",
       " 'in',\n",
       " 'into',\n",
       " 'is',\n",
       " 'isn',\n",
       " \"isn't\",\n",
       " 'it',\n",
       " \"it's\",\n",
       " 'its',\n",
       " 'itself',\n",
       " 'just',\n",
       " 'll',\n",
       " 'm',\n",
       " 'ma',\n",
       " 'me',\n",
       " 'mightn',\n",
       " \"mightn't\",\n",
       " 'more',\n",
       " 'most',\n",
       " 'mustn',\n",
       " \"mustn't\",\n",
       " 'my',\n",
       " 'myself',\n",
       " 'needn',\n",
       " \"needn't\",\n",
       " 'no',\n",
       " 'nor',\n",
       " 'not',\n",
       " 'now',\n",
       " 'o',\n",
       " 'of',\n",
       " 'off',\n",
       " 'on',\n",
       " 'once',\n",
       " 'only',\n",
       " 'or',\n",
       " 'other',\n",
       " 'our',\n",
       " 'ours',\n",
       " 'ourselves',\n",
       " 'out',\n",
       " 'over',\n",
       " 'own',\n",
       " 're',\n",
       " 's',\n",
       " 'same',\n",
       " 'shan',\n",
       " \"shan't\",\n",
       " 'she',\n",
       " \"she's\",\n",
       " 'should',\n",
       " \"should've\",\n",
       " 'shouldn',\n",
       " \"shouldn't\",\n",
       " 'so',\n",
       " 'some',\n",
       " 'such',\n",
       " 't',\n",
       " 'than',\n",
       " 'that',\n",
       " \"that'll\",\n",
       " 'the',\n",
       " 'their',\n",
       " 'theirs',\n",
       " 'them',\n",
       " 'themselves',\n",
       " 'then',\n",
       " 'there',\n",
       " 'these',\n",
       " 'they',\n",
       " 'this',\n",
       " 'those',\n",
       " 'through',\n",
       " 'to',\n",
       " 'too',\n",
       " 'under',\n",
       " 'until',\n",
       " 'up',\n",
       " 've',\n",
       " 'very',\n",
       " 'was',\n",
       " 'wasn',\n",
       " \"wasn't\",\n",
       " 'we',\n",
       " 'were',\n",
       " 'weren',\n",
       " \"weren't\",\n",
       " 'what',\n",
       " 'when',\n",
       " 'where',\n",
       " 'which',\n",
       " 'while',\n",
       " 'who',\n",
       " 'whom',\n",
       " 'why',\n",
       " 'will',\n",
       " 'with',\n",
       " 'won',\n",
       " \"won't\",\n",
       " 'wouldn',\n",
       " \"wouldn't\",\n",
       " 'y',\n",
       " 'you',\n",
       " \"you'd\",\n",
       " \"you'll\",\n",
       " \"you're\",\n",
       " \"you've\",\n",
       " 'your',\n",
       " 'yours',\n",
       " 'yourself',\n",
       " 'yourselves'}"
      ]
     },
     "execution_count": 24,
     "metadata": {},
     "output_type": "execute_result"
    }
   ],
   "source": [
    "from nltk.corpus import stopwords # contains stop words for different languages\n",
    "\n",
    "stopwords_from_nltk = set(stopwords.words(\"english\"))\n",
    "stopwords_from_nltk"
   ]
  },
  {
   "cell_type": "markdown",
   "metadata": {},
   "source": [
    "The above cell outputs several English words that nltk considers to be stop words. e.g., 'i', 'me', 'my', 'myself', 'we', 'our', 'ours', 'ourselves', 'you'."
   ]
  },
  {
   "cell_type": "code",
   "execution_count": 27,
   "metadata": {},
   "outputs": [
    {
     "data": {
      "text/html": [
       "<div>\n",
       "<style scoped>\n",
       "    .dataframe tbody tr th:only-of-type {\n",
       "        vertical-align: middle;\n",
       "    }\n",
       "\n",
       "    .dataframe tbody tr th {\n",
       "        vertical-align: top;\n",
       "    }\n",
       "\n",
       "    .dataframe thead th {\n",
       "        text-align: right;\n",
       "    }\n",
       "</style>\n",
       "<table border=\"1\" class=\"dataframe\">\n",
       "  <thead>\n",
       "    <tr style=\"text-align: right;\">\n",
       "      <th></th>\n",
       "      <th>review</th>\n",
       "      <th>review_no_stop_words</th>\n",
       "    </tr>\n",
       "  </thead>\n",
       "  <tbody>\n",
       "    <tr>\n",
       "      <th>0_0.txt</th>\n",
       "      <td>It's mine.resume   hello  I admit, the great m...</td>\n",
       "      <td>It's mine.resume hello I admit, great majority...</td>\n",
       "    </tr>\n",
       "    <tr>\n",
       "      <th>10000_0.txt</th>\n",
       "      <td>Take a low budget, inexperienced actors doubli...</td>\n",
       "      <td>Take low budget, inexperienced actors doubling...</td>\n",
       "    </tr>\n",
       "    <tr>\n",
       "      <th>10001_0.txt</th>\n",
       "      <td>Everybody has seen 'Back To The Future,' right...</td>\n",
       "      <td>Everybody seen 'Back To The Future,' right? Wh...</td>\n",
       "    </tr>\n",
       "    <tr>\n",
       "      <th>10002_0.txt</th>\n",
       "      <td>Doris Day was an icon of beauty in singing and...</td>\n",
       "      <td>Doris Day icon beauty singing acting warm voic...</td>\n",
       "    </tr>\n",
       "    <tr>\n",
       "      <th>10003_0.txt</th>\n",
       "      <td>After a series of silly, fun-loving movies, 19...</td>\n",
       "      <td>After series silly, fun-loving movies, 1955 bi...</td>\n",
       "    </tr>\n",
       "  </tbody>\n",
       "</table>\n",
       "</div>"
      ],
      "text/plain": [
       "                                                        review  \\\n",
       "0_0.txt      It's mine.resume   hello  I admit, the great m...   \n",
       "10000_0.txt  Take a low budget, inexperienced actors doubli...   \n",
       "10001_0.txt  Everybody has seen 'Back To The Future,' right...   \n",
       "10002_0.txt  Doris Day was an icon of beauty in singing and...   \n",
       "10003_0.txt  After a series of silly, fun-loving movies, 19...   \n",
       "\n",
       "                                          review_no_stop_words  \n",
       "0_0.txt      It's mine.resume hello I admit, great majority...  \n",
       "10000_0.txt  Take low budget, inexperienced actors doubling...  \n",
       "10001_0.txt  Everybody seen 'Back To The Future,' right? Wh...  \n",
       "10002_0.txt  Doris Day icon beauty singing acting warm voic...  \n",
       "10003_0.txt  After series silly, fun-loving movies, 1955 bi...  "
      ]
     },
     "execution_count": 27,
     "metadata": {},
     "output_type": "execute_result"
    }
   ],
   "source": [
    "reviews.drop([\"review_no_punc\"], axis = 1, inplace = True)\n",
    "reviews[\"review_no_stop_words\"] = [ \" \".join([word for word in text.split() if word not in stopwords_from_nltk]) for text in reviews[\"review\"]]\n",
    "reviews.head()"
   ]
  },
  {
   "cell_type": "markdown",
   "metadata": {},
   "source": [
    "Nonetheless, we can edit the list of stopwords as per our need and add/ remove stop words."
   ]
  },
  {
   "cell_type": "markdown",
   "metadata": {},
   "source": [
    "### Frequent/ Rare Words Removal\n",
    "**Stop words** are the words that occur frequently in sentences of a particular language. However, there can be words that occur frequently based on the topic in context which add no additional value to the text. We can visualize the words based on their frequency of occurence in the text. Such a diagram is called a word cloud.<br>\n",
    "Also, words that occur rarely can be removed if deemed necessary."
   ]
  },
  {
   "cell_type": "code",
   "execution_count": 29,
   "metadata": {},
   "outputs": [
    {
     "data": {
      "image/png": "[encoded data removed]",
      "text/plain": [
       "<Figure size 720x504 with 1 Axes>"
      ]
     },
     "metadata": {
      "needs_background": "light"
     },
     "output_type": "display_data"
    }
   ],
   "source": [
    "from wordcloud import WordCloud\n",
    "wordcloud = WordCloud(width=800, height=500, random_state=21, max_font_size=110).generate(raw_text_1)\n",
    "\n",
    "plt.figure(figsize=(10, 7))\n",
    "plt.imshow(wordcloud, interpolation=\"bilinear\")\n",
    "plt.axis('off')\n",
    "plt.show()"
   ]
  },
  {
   "cell_type": "markdown",
   "metadata": {},
   "source": [
    "### Normalization\n",
    "Normalization is the conversion of non-text information to textual information. e.g., $ symbol, abbreviations, numbers, dates,etc. Numbers can be treated as words and left unchanged or changed to their text equivalents. Libraries exist that can convert dates and predefined abbreviations into full text equivalents. Special characters can be removed or converted to text equivalents based on the need.<br>\n",
    "normalise libraries exists for this purpose in python."
   ]
  },
  {
   "cell_type": "code",
   "execution_count": 57,
   "metadata": {},
   "outputs": [
    {
     "data": {
      "text/plain": [
       "'The 3rd of Jan., 2017 was a good day. W.W.F. decided thatThe 3rd of Jan., 2017 was a good day. W.W.F. decided thatThe 3rd of Jan., 2017 was a good day. W.W.F. decided thatThe 3rd of Jan., 2017 was a good day. W.W.F. decided thatThe 3rd of Jan., 2017 was a good day. W.W.F. decided thatThe 3rd of Jan., 2017 was a good day. W.W.F. decided thatThe 3rd of Jan., 2017 was a good day. W.W.F. decided thatThe 3rd of Jan., 2017 was a good day. W.W.F. decided thatThe 3rd of Jan., 2017 was a good day. W.W.F. decided thatThe 3rd of Jan., 2017 was a good day. W.W.F. decided thatHi.\\x0bHi.\\x0bIt\\'s mine.resume   hello  I admit, the great majority of films released before say 1933 are just not for me. Of the dozen or so \"major\" silents I have viewed, one I loved (The Crowd), and two were very good (The Last Command and City Lights, that latter Chaplin circa 1931).So I was apprehensive about this one, and humor is often difficult to appreciate (uh, enjoy) decades later. I did like the lead actors, but thought little of the film.One intriguing sequence. Early on, the guys are supposed to get \"de-loused\" and for about three minutes, fully dressed, do some schtick. In the background, perhaps three dozen men pass by, all naked, white and black (WWI ?), and for most, their butts, part or full backside, are shown. Was this an early variation of beefcake courtesy of Howard Hughes?'"
      ]
     },
     "execution_count": 57,
     "metadata": {},
     "output_type": "execute_result"
    }
   ],
   "source": [
    "reviews.iloc[0,0]"
   ]
  },
  {
   "cell_type": "code",
   "execution_count": 58,
   "metadata": {},
   "outputs": [
    {
     "name": "stderr",
     "output_type": "stream",
     "text": [
      "[nltk_data] Downloading package brown to\n",
      "[nltk_data]     C:\\Users\\Being_Aerys\\AppData\\Roaming\\nltk_data...\n",
      "[nltk_data]   Package brown is already up-to-date!\n",
      "[nltk_data] Downloading package averaged_perceptron_tagger to\n",
      "[nltk_data]     C:\\Users\\Being_Aerys\\AppData\\Roaming\\nltk_data...\n",
      "[nltk_data]   Package averaged_perceptron_tagger is already up-to-\n",
      "[nltk_data]       date!\n"
     ]
    },
    {
     "data": {
      "text/plain": [
       "'Normalized text: The third of January , twenty seventeen was a good day World Wildlife Fund decided that The third of January , twenty seventeen was a good day World Wildlife Fund decided that The third of January , twenty seventeen was a good day World Wildlife Fund decided that The third of January , twenty seventeen was a good day World Wildlife Fund decided that The third of January , twenty seventeen was a good day World Wildlife Fund decided that The third of January , twenty seventeen was a good day World Wildlife Fund decided that The third of January , twenty seventeen was a good day World Wildlife Fund decided that The third of January , twenty seventeen was a good day World Wildlife Fund decided that The third of January , twenty seventeen was a good day World Wildlife Fund decided that The third of January , twenty seventeen was a good day World Wildlife Fund decided that The third of January , twenty seventeen was a good day World Wildlife Fund decided   hello I admit , the great majority of films released before say nineteen thirty three are just not for me . Of the dozen or so major silent I have viewed , one I loved ( The  , and two were very good ( The Last Command and City Lights , that latter Chaplin circa  So I was apprehensive about this one , and humor is often difficult to appreciate (  enjoy ) decades later . I did like the lead actors , but thought little of the  intriguing sequence . Early on , the guys are supposed to get  and for about three minutes , fully dressed , do some stick . In the background , perhaps three dozen men pass by , all naked , white and black ( World War I ?) , and for most , their butts , part or full backside , are shown . Was this an early variation of beefcake courtesy of Howard Hughes ?'"
      ]
     },
     "metadata": {},
     "output_type": "display_data"
    }
   ],
   "source": [
    "nltk.download('brown')\n",
    "nltk.download('averaged_perceptron_tagger')\n",
    "from normalise import normalise\n",
    "# adding an html tag for the sake of illustration\n",
    "reviews.iloc[0,0] = \"The 3rd of Jan., 2017 was a good day. W.W.F. decided that\" + reviews.iloc[0,0] \n",
    "reviews.head()\n",
    "\n",
    "custom_abbr = {\n",
    "    \"W.W.F.\" : \"World Wildlife Fund\",\n",
    "    \"WWI\" : \"World War I\"\n",
    "}\n",
    "\n",
    "normalized_tokens = normalise(reviews.iloc[0,0], user_abbrevs =custom_abbr, verbose=False)\n",
    "\n",
    "\n",
    "\n",
    "display(f\"Normalized text: {' '.join(normalized_tokens)}\")"
   ]
  },
  {
   "cell_type": "markdown",
   "metadata": {},
   "source": [
    "When the text data passes through all these steps, now it is ready to move on to the steps of tokenization, lemmatization, and stemming. These will be covered in another notebook."
   ]
  },
  {
   "cell_type": "code",
   "execution_count": null,
   "metadata": {},
   "outputs": [],
   "source": []
  }
 ],
 "metadata": {
  "kernelspec": {
   "display_name": "Python 3",
   "language": "python",
   "name": "python3"
  },
  "language_info": {
   "codemirror_mode": {
    "name": "ipython",
    "version": 3
   },
   "file_extension": ".py",
   "mimetype": "text/x-python",
   "name": "python",
   "nbconvert_exporter": "python",
   "pygments_lexer": "ipython3",
   "version": "3.6.8"
  }
 },
 "nbformat": 4,
 "nbformat_minor": 2
}
