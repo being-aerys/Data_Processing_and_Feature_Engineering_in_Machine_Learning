{
 "cells": [
  {
   "cell_type": "markdown",
   "metadata": {},
   "source": [
    "# Missing Data Imputation for Data Cleaning in Cross-Sectional Data Set\n"
   ]
  },
  {
   "cell_type": "markdown",
   "metadata": {},
   "source": [
    "Before looking into how to handle missing data in a data set, it is wise to understand the cause of missing data. Understanding the cause can hint us toward a proper strategy when multiple options are available. This notebook takes ideas from multiple online sources. There are three major types of missing values in a cross-sectional data set."
   ]
  },
  {
   "cell_type": "markdown",
   "metadata": {},
   "source": [
    "## 1.Missing Completely At Random (MCAR)\n",
    "Say we have a cross-sectional data set for a population of people and there are missing values of a feature. However, if the probability of missing this feature is the same for each of the samples/ people, then this is a case of Missing Completely At Random (MCAR). So how would we go about as data scientists to verify that this is indeed a case of MCAR and there is no non-uniform probability of this feature missing for different samples? One way to verify this would be to ask the data collector why are the values missing for this feature for certain samples. If the collector says that values get missed when a data collector forgets to type the value sometimes, then it is obvious that there is a uniform probability that this feature could be missing for any of the samples. This would verify that this is a case of MCAR."
   ]
  },
  {
   "cell_type": "markdown",
   "metadata": {},
   "source": [
    "## 2.Missing At Random (MAR)\n",
    "However, suppose in the above case, if the collector replied by saying that people from European countries do not hesitate to give out their heights since they are tall and feel proud of it while some people from Asia with shorter stature prefer not to disclose their heights and thus the data set has some missing values, then it is obvious that different samples can have different probability of missing data for this feature and the probability of randomly missing values of a feature depends on another predictor variable (here, the continent feature that exists in the data set). Suppose, the data collector said that European people give out their heights willingly 99% of the time while Asian people give out their heights only 70% of the time, then there are two different probabilities of randomly missing data for these two groups in the population. This is a case of MAR. Here, the probability of randomly missing values are depending on some other factor (which continent they are from). In such cases, we can impute  the missing values using this another feature from the data set unlike in MCAR where there is no such feature to relate to."
   ]
  },
  {
   "cell_type": "markdown",
   "metadata": {},
   "source": [
    "## 3.Missing Not At Random (MNAR)\n",
    "If the missingness of the value of a feature depends upon the true value of that feature, then this is called Missing Not At Random (MNAR). For example, if there is a survey where one of the data to be collected is the highest level of education an individual has completed, then there is a natural tendency for the people to not give out their education level information if they have not completed a higher level of education. Say, an individual A is less likely to give out his education information if he has attended only elementary school. There is a natural tendency that an individual B who has completed only high school to give out his/ her information with a probability more than individual A but less than another individual who has a PhD degree. Another example could be if the survryor is collecting information on how much debt an individual has. Larger the debt, less likely that they will disclose the information."
   ]
  },
  {
   "cell_type": "markdown",
   "metadata": {},
   "source": [
    "# Summarizing and Visualizing the Missing Data\n",
    "The missing information can be summarized in pandas as below:<br>\n"
   ]
  },
  {
   "cell_type": "code",
   "execution_count": null,
   "metadata": {},
   "outputs": [],
   "source": [
    "features_description = features.describe().T\n",
    "\n",
    "#Add a new column to the dataframe that stores the percentage of missing data<br>\n",
    "features_description['missing %'] = 1- (features_description['count']/len(features))\n",
    "\n",
    "#display the information<br>\n",
    "features_desc"
   ]
  },
  {
   "cell_type": "markdown",
   "metadata": {},
   "source": [
    "Also, it can be visualized as below:"
   ]
  },
  {
   "cell_type": "code",
   "execution_count": null,
   "metadata": {},
   "outputs": [],
   "source": [
    "import seaborn as sn\n",
    "sn.heatmap(df.isnull(), cbar = False)"
   ]
  },
  {
   "cell_type": "markdown",
   "metadata": {},
   "source": [
    "# Strategies To Handle the Missing Data\n",
    "There is no perfect method to handle missing data in a data set. However, there are different strategies that can be used based on the type of the missing value. Little's MCAR test is used to figure out whether the data is missing at random or not numerically. However, the practical significance of such tests is unclear. Hence, the general rule of thumb to handle missing data is as below: "
   ]
  },
  {
   "cell_type": "markdown",
   "metadata": {},
   "source": [
    "## 1. Drop the samples.\n",
    "If the number of samples that have some missing value(s) is very low as compared to the total number of training samples, training without these samples should not be much of a problem and thus these samples can be dropped. This comes with a cost of losing some information in the process."
   ]
  },
  {
   "cell_type": "markdown",
   "metadata": {},
   "source": [
    "## 2.Impute a continuous feature using Zero/ Mean/ Median\n",
    "Although this method is easy, this method gives poor results in general.We can also add an indicator variable that shows whether this feature is missing or not."
   ]
  },
  {
   "cell_type": "markdown",
   "metadata": {},
   "source": [
    "## 3.Impute a categorical feature using \n",
    "### a)The Most Frequent Value of this feature \n",
    "Since there is no quntitative significance of a categorical feature that was converted into an encoded numerical value (say, a feature \"color_of_eyes\" could have values \"black\", \"brown\", or \"blue\" and these categories were converted into 0, 1, and 2 respectively), it does not make sense to take a central measure such as mean or median of such a feature. Hence, instead, the missing value can be imputed using the most frequent feature.\n",
    "### b)A New Category for this Feature\n",
    "Assign each sample that misses this feature this new category.\n"
   ]
  },
  {
   "cell_type": "markdown",
   "metadata": {},
   "source": [
    "## 4. Use a Machine Learning Model to Impute Numerical/ Categorical Features\n",
    "### a. kNN Imputation\n"
   ]
  },
  {
   "cell_type": "code",
   "execution_count": null,
   "metadata": {},
   "outputs": [],
   "source": []
  }
 ],
 "metadata": {
  "kernelspec": {
   "display_name": "Python 3",
   "language": "python",
   "name": "python3"
  },
  "language_info": {
   "codemirror_mode": {
    "name": "ipython",
    "version": 3
   },
   "file_extension": ".py",
   "mimetype": "text/x-python",
   "name": "python",
   "nbconvert_exporter": "python",
   "pygments_lexer": "ipython3",
   "version": "3.6.8"
  }
 },
 "nbformat": 4,
 "nbformat_minor": 2
}
